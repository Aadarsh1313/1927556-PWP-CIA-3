{
 "cells": [
  {
   "cell_type": "code",
   "execution_count": null,
   "metadata": {},
   "outputs": [],
   "source": [
    "# Importing all required libraries\n",
    "import os\n",
    "import pandas as pd\n",
    "import numpy as np\n",
    "import matplotlib.pyplot as plt\n",
    "import seaborn as sns"
   ]
  },
  {
   "cell_type": "code",
   "execution_count": null,
   "metadata": {},
   "outputs": [],
   "source": [
    "# Setting the working directory\n",
    "os.chdir('C:/Users/Adi Malhotra/Desktop/IMDB')"
   ]
  },
  {
   "cell_type": "code",
   "execution_count": null,
   "metadata": {},
   "outputs": [],
   "source": [
    "# Taking input from the IMDB folder created in the above path\n",
    "data = pd.read_csv(\"imdb_1000.csv\")"
   ]
  },
  {
   "cell_type": "code",
   "execution_count": null,
   "metadata": {},
   "outputs": [],
   "source": [
    "# Top 5 entries of the dataset\n",
    "data.head()"
   ]
  },
  {
   "cell_type": "code",
   "execution_count": null,
   "metadata": {},
   "outputs": [],
   "source": [
    "# Summary of the Data stucture\n",
    "data.info()"
   ]
  },
  {
   "cell_type": "code",
   "execution_count": null,
   "metadata": {},
   "outputs": [],
   "source": [
    "# check the number of rows and columns\n",
    "data.shape"
   ]
  },
  {
   "cell_type": "code",
   "execution_count": null,
   "metadata": {},
   "outputs": [],
   "source": [
    "# Statistical Summary of the dataset\n",
    "data.describe()\n"
   ]
  },
  {
   "cell_type": "code",
   "execution_count": null,
   "metadata": {},
   "outputs": [],
   "source": [
    "# check the data type of each variable\n",
    "data.dtypes"
   ]
  },
  {
   "cell_type": "code",
   "execution_count": null,
   "metadata": {},
   "outputs": [],
   "source": [
    "# calculate the average movie duration\n",
    "data['duration'].mean()\n"
   ]
  },
  {
   "cell_type": "code",
   "execution_count": null,
   "metadata": {},
   "outputs": [],
   "source": [
    "# sort the DataFrame by duration to find the shortest and longest movie\n",
    "data.sort_values('duration')"
   ]
  },
  {
   "cell_type": "code",
   "execution_count": null,
   "metadata": {},
   "outputs": [],
   "source": [
    "#Sorting the dataset to find the highest to least rated movies\n",
    "#without using .head(), one can see the full list. The .head() operator allows to see only top 5 values\n",
    "data_sort= data.sort_values(by= 'star_rating', ascending= False).head()\n",
    "data_sort.head()"
   ]
  },
  {
   "cell_type": "code",
   "execution_count": null,
   "metadata": {},
   "outputs": [],
   "source": [
    "# create a histogram of duration, choosing an \"appropriate\" number of bins\n",
    "data['duration'].plot(kind='hist', bins=30)\n",
    "#Naming the X axis title\n",
    "plt.xlabel('Movie Duration')"
   ]
  },
  {
   "cell_type": "code",
   "execution_count": null,
   "metadata": {},
   "outputs": [],
   "source": [
    "#Probability Distribution Function (pdf) along with histogram\n",
    "sns.distplot(data['duration'], bins= 10)"
   ]
  },
  {
   "cell_type": "code",
   "execution_count": null,
   "metadata": {},
   "outputs": [],
   "source": [
    "# use a box plot to display that same data\n",
    "data['duration'].plot(kind='box')"
   ]
  },
  {
   "cell_type": "code",
   "execution_count": null,
   "metadata": {},
   "outputs": [],
   "source": [
    "# Number of movies by distinct genre\n",
    "make_dist = data.groupby('genre').size()\n",
    "make_dist"
   ]
  },
  {
   "cell_type": "code",
   "execution_count": null,
   "metadata": {},
   "outputs": [],
   "source": [
    "#Frewuency distribution of each genre\n",
    "make_dist.plot(title=\" Distribution of genres\")"
   ]
  },
  {
   "cell_type": "code",
   "execution_count": null,
   "metadata": {},
   "outputs": [],
   "source": [
    "# Selecting only numeric variables\n",
    "data_num = data.select_dtypes(include = [\"float64\", \"int64\"])\n",
    "data_num.head()"
   ]
  },
  {
   "cell_type": "code",
   "execution_count": null,
   "metadata": {},
   "outputs": [],
   "source": [
    "#Histogram of each numeric variable\n",
    "data_num.hist(bins= 20)"
   ]
  },
  {
   "cell_type": "code",
   "execution_count": null,
   "metadata": {},
   "outputs": [],
   "source": [
    "#Computation of correlation coefficient of all numeric variables\n",
    "data_corr = data_num.corr()\n",
    "data_corr"
   ]
  },
  {
   "cell_type": "code",
   "execution_count": null,
   "metadata": {},
   "outputs": [],
   "source": [
    "#Pairplot of all numeric variables to identify the relationships, if any\n",
    "sns.pairplot(data_num)"
   ]
  },
  {
   "cell_type": "code",
   "execution_count": null,
   "metadata": {},
   "outputs": [],
   "source": [
    "#Heatmap plot using correlation coefficient\n",
    "sns.heatmap(data_corr, annot = True)"
   ]
  },
  {
   "cell_type": "code",
   "execution_count": null,
   "metadata": {},
   "outputs": [],
   "source": [
    "# Visualization to display data, including a title and x and y labels\n",
    "data[['content_rating','title']].groupby('content_rating').count().plot(kind='bar', title='Content Rating Visualization')\n",
    "plt.xlabel('Content Rating')\n",
    "plt.ylabel('Title Count')"
   ]
  },
  {
   "cell_type": "code",
   "execution_count": null,
   "metadata": {},
   "outputs": [],
   "source": [
    "# count the number of missing values in each column\n",
    "data.isnull().sum(axis=0)"
   ]
  },
  {
   "cell_type": "code",
   "execution_count": null,
   "metadata": {},
   "outputs": [],
   "source": [
    "# if there are missing values: examine them, then fill them in with \"reasonable\" values\n",
    "data[data['content_rating'].isnull()]\n",
    "data.at[(187,649),'content_rating'] = 'PG'\n",
    "data.at[936,'content_rating'] = 'PG-13'"
   ]
  },
  {
   "cell_type": "code",
   "execution_count": null,
   "metadata": {},
   "outputs": [],
   "source": [
    "# calculate the average star rating for movies 2 hours or longer,\n",
    "# and compare that with the average star rating for movies shorter than 2 hours\n",
    "\n",
    "data[data['duration'] < 120]['star_rating'].mean()\n",
    "\n",
    "print('Avg. star rating for movies 2 hours or longer: ', data[data['duration'] >= 120]['star_rating'].mean(), \n",
    "      '\\nAvg. star rating for movies shorter than 2 hours: ', data[data['duration'] < 120]['star_rating'].mean())"
   ]
  },
  {
   "cell_type": "code",
   "execution_count": null,
   "metadata": {},
   "outputs": [],
   "source": [
    "# calculate the average duration for each genre\n",
    "data[['duration','genre']].groupby('genre').mean()"
   ]
  },
  {
   "cell_type": "code",
   "execution_count": null,
   "metadata": {},
   "outputs": [],
   "source": [
    "# Boxplot to detect whether there is a relationship between duration and star rating\n",
    "box1= sns.boxplot (x= 'star_rating', y = \"duration\", data= data)"
   ]
  },
  {
   "cell_type": "code",
   "execution_count": null,
   "metadata": {},
   "outputs": [],
   "source": [
    "# determine the top rated movie (by star rating) for each genre\n",
    "#Using .first() for Alphabetical order of genres\n",
    "data.sort_values('star_rating', ascending=False).groupby('genre')['title','star_rating'].first()"
   ]
  },
  {
   "cell_type": "code",
   "execution_count": null,
   "metadata": {},
   "outputs": [],
   "source": [
    "# check if there are multiple movies with the same title, and if so, determine if they are actually duplicates\n",
    "result = data[data['title'].isin(data[data.duplicated(['title'])]['title'])]\n",
    "result.sort_values('title')"
   ]
  },
  {
   "cell_type": "code",
   "execution_count": null,
   "metadata": {},
   "outputs": [],
   "source": [
    "# calculate the average star rating for each genre, but only include genres with at least 10 movies\n",
    "genres = data['genre'].value_counts()[data['genre'].value_counts() > 10].index\n",
    "data[data['genre'].isin(genres)].groupby('genre')['star_rating'].mean()"
   ]
  },
  {
   "cell_type": "code",
   "execution_count": null,
   "metadata": {},
   "outputs": [],
   "source": [
    "# Number of movies done by each actor\n",
    "def repp(string):\n",
    "    return string.replace(\"[\",\"\").replace(\"]\",\"\").replace(\"u'\",\"\").replace(\"',\",\",\")[:-1]\n",
    "    \n",
    "movies_series = data['actors_list'].apply(repp)\n",
    "\n",
    "actors_list = []\n",
    "for movie_actors in movies_series:\n",
    "    actors_list.append([e.strip() for e in movie_actors.split(',')])\n",
    "    \n",
    "actor_dict = {}\n",
    "for actor in actors_list:\n",
    "    for a in actor:\n",
    "        if a in actor_dict:\n",
    "            actor_dict[a] +=1\n",
    "        else:\n",
    "            actor_dict[a] = 1\n",
    "\n",
    "actor_dict\n"
   ]
  },
  {
   "cell_type": "code",
   "execution_count": null,
   "metadata": {},
   "outputs": [],
   "source": [
    "# Number of movies done by all actors sorted by the count of movies\n",
    "movies_series"
   ]
  },
  {
   "cell_type": "code",
   "execution_count": null,
   "metadata": {},
   "outputs": [],
   "source": [
    "#regression plot\n",
    "sns.regplot(data[\"star_rating\"], data[\"duration\"])"
   ]
  }
 ],
 "metadata": {
  "kernelspec": {
   "display_name": "Python 3",
   "language": "python",
   "name": "python3"
  },
  "language_info": {
   "codemirror_mode": {
    "name": "ipython",
    "version": 3
   },
   "file_extension": ".py",
   "mimetype": "text/x-python",
   "name": "python",
   "nbconvert_exporter": "python",
   "pygments_lexer": "ipython3",
   "version": "3.6.4"
  }
 },
 "nbformat": 4,
 "nbformat_minor": 4
}
